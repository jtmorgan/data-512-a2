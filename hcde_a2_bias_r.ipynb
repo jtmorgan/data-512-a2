{
 "cells": [
  {
   "cell_type": "markdown",
   "metadata": {},
   "source": [
    "# Bias on Wikipedia\n",
    "\n",
    "For this assignment (https://wiki.communitydata.cc/HCDS_(Fall_2017)/Assignments#A2:_Bias_in_data), your job is to analyze what the nature of political articles on Wikipedia - both their existence, and their quality - can tell us about bias in Wikipedia's content.\n",
    "\n",
    "# Making ORES requests\n",
    "\n",
    "Below is an example of how to make requests through the ORES system in Python to find out the current quality of an article. Specifically, this is a function designed to make a request with *multiple* revision IDs. You can take this function, split your revision IDs up into chunks of 50 or 100 to avoid hitting limits in ORES, pass each chunk through this function, and then stitch the whole set together."
   ]
  },
  {
   "cell_type": "code",
   "execution_count": 2,
   "metadata": {},
   "outputs": [
    {
     "name": "stdout",
     "output_type": "stream",
     "text": [
      "List of 1\n",
      " $ enwiki:List of 2\n",
      "  ..$ models:List of 1\n",
      "  .. ..$ wp10:List of 1\n",
      "  .. .. ..$ version: chr \"0.5.0\"\n",
      "  ..$ scores:List of 3\n",
      "  .. ..$ 757539710:List of 1\n",
      "  .. .. ..$ wp10:List of 1\n",
      "  .. .. .. ..$ score:List of 2\n",
      "  .. .. .. .. ..$ prediction : chr \"Start\"\n",
      "  .. .. .. .. ..$ probability:List of 6\n",
      "  .. .. .. .. .. ..$ B    : num 0.0951\n",
      "  .. .. .. .. .. ..$ C    : num 0.171\n",
      "  .. .. .. .. .. ..$ FA   : num 0.00253\n",
      "  .. .. .. .. .. ..$ GA   : num 0.00573\n",
      "  .. .. .. .. .. ..$ Start: num 0.709\n",
      "  .. .. .. .. .. ..$ Stub : num 0.0165\n",
      "  .. ..$ 783381498:List of 1\n",
      "  .. .. ..$ wp10:List of 1\n",
      "  .. .. .. ..$ score:List of 2\n",
      "  .. .. .. .. ..$ prediction : chr \"Start\"\n",
      "  .. .. .. .. ..$ probability:List of 6\n",
      "  .. .. .. .. .. ..$ B    : num 0.0202\n",
      "  .. .. .. .. .. ..$ C    : num 0.0405\n",
      "  .. .. .. .. .. ..$ FA   : num 0.00265\n",
      "  .. .. .. .. .. ..$ GA   : num 0.0051\n",
      "  .. .. .. .. .. ..$ Start: num 0.479\n",
      "  .. .. .. .. .. ..$ Stub : num 0.452\n",
      "  .. ..$ 807355596:List of 1\n",
      "  .. .. ..$ wp10:List of 1\n",
      "  .. .. .. ..$ score:List of 2\n",
      "  .. .. .. .. ..$ prediction : chr \"Start\"\n",
      "  .. .. .. .. ..$ probability:List of 6\n",
      "  .. .. .. .. .. ..$ B    : num 0.0317\n",
      "  .. .. .. .. .. ..$ C    : num 0.0515\n",
      "  .. .. .. .. .. ..$ FA   : num 0.00306\n",
      "  .. .. .. .. .. ..$ GA   : num 0.00597\n",
      "  .. .. .. .. .. ..$ Start: num 0.799\n",
      "  .. .. .. .. .. ..$ Stub : num 0.108\n"
     ]
    }
   ],
   "source": [
    "# Dependencies\n",
    "library(httr)\n",
    "library(magrittr)\n",
    "\n",
    "user_agent <- \"https://github.com/your_github_username your@email.address\"\n",
    "\n",
    "# Define a single function that will happily take multiple revision IDs\n",
    "get_ores_data <- function(revision_ids, user_agent){\n",
    "    \n",
    "    # Define the parameters, collapsing the revision IDs into a single string separated by | marks\n",
    "    parameters <- list(models = \"wp10\",\n",
    "                       revids = paste0(revision_ids, collapse = \"|\")\n",
    "                       )\n",
    "    url <- \"https://ores.wikimedia.org/v3/scores/enwiki/\"\n",
    "    \n",
    "    # Make the query, check for an error, retrieve the content and convert it from JSON\n",
    "    results <- httr::GET(url, query = parameters,  user_agent(user_agent)) %>%\n",
    "        stop_for_status %>%\n",
    "        content\n",
    "    \n",
    "    # Return the results\n",
    "    return(results)\n",
    "}\n",
    "\n",
    "# So if we grab some example revision IDs and turn them into a list and then call get_ores_data...\n",
    "example_ids  <- c(783381498, 807355596, 757539710)\n",
    "str(get_ores_data(example_ids, user_agent))"
   ]
  }
 ],
 "metadata": {
  "kernelspec": {
   "display_name": "R",
   "language": "R",
   "name": "ir"
  },
  "language_info": {
   "codemirror_mode": "r",
   "file_extension": ".r",
   "mimetype": "text/x-r-source",
   "name": "R",
   "pygments_lexer": "r",
   "version": "3.3.2"
  }
 },
 "nbformat": 4,
 "nbformat_minor": 2
}
